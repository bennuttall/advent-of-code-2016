{
 "cells": [
  {
   "cell_type": "code",
   "execution_count": 1,
   "id": "186fce83",
   "metadata": {},
   "outputs": [],
   "source": [
    "def process_line(line):\n",
    "    parts = line.split()\n",
    "    if parts[0] == 'rect':\n",
    "        width, height = [int(n) for n in parts[1].split('x')]\n",
    "        return ('rect', width, height)\n",
    "    rc = int(parts[2].split('=')[-1])\n",
    "    n = int(parts[-1])\n",
    "    return (parts[1], rc, n)"
   ]
  },
  {
   "cell_type": "code",
   "execution_count": 2,
   "id": "d0726727",
   "metadata": {},
   "outputs": [
    {
     "data": {
      "text/plain": [
       "[('rect', 1, 1),\n",
       " ('row', 0, 6),\n",
       " ('rect', 1, 1),\n",
       " ('row', 0, 3),\n",
       " ('rect', 1, 1),\n",
       " ('row', 0, 5),\n",
       " ('rect', 1, 1),\n",
       " ('row', 0, 4),\n",
       " ('rect', 2, 1),\n",
       " ('row', 0, 5)]"
      ]
     },
     "execution_count": 2,
     "metadata": {},
     "output_type": "execute_result"
    }
   ],
   "source": [
    "with open('input') as f:\n",
    "    instructions = [process_line(line.strip()) for line in f]\n",
    "instructions[:10]"
   ]
  },
  {
   "cell_type": "code",
   "execution_count": 3,
   "id": "193091a4",
   "metadata": {},
   "outputs": [],
   "source": [
    "WIDTH = 50\n",
    "HEIGHT = 6"
   ]
  },
  {
   "cell_type": "code",
   "execution_count": 16,
   "id": "054295c5",
   "metadata": {},
   "outputs": [],
   "source": [
    "from itertools import product\n",
    "\n",
    "def process_instruction(instruction, screen):\n",
    "    if instruction[0] == 'rect':\n",
    "        width = instruction[1]\n",
    "        height = instruction[2]\n",
    "        pixels = set(product(range(width), range(height)))\n",
    "        screen |= pixels\n",
    "    elif instruction[0] == 'row':\n",
    "        row = instruction[1]\n",
    "        n = instruction[2]\n",
    "        pixels = {(x, row) for x in range(WIDTH) if (x, row) in screen}\n",
    "        screen -= pixels\n",
    "        screen |= {(((x + n) % WIDTH), row) for (x, r) in pixels}\n",
    "    elif instruction[0] == 'column':\n",
    "        col = instruction[1]\n",
    "        n = instruction[2]\n",
    "        pixels = {(col, y) for y in range(HEIGHT) if (col, y) in screen}\n",
    "        screen -= pixels\n",
    "        screen |= {(col, ((y + n) % HEIGHT)) for (c, y) in pixels}\n",
    "    return screen"
   ]
  },
  {
   "cell_type": "code",
   "execution_count": 17,
   "id": "03697551",
   "metadata": {},
   "outputs": [],
   "source": [
    "def print_screen():\n",
    "    for y in range(HEIGHT):\n",
    "        for x in range(WIDTH):\n",
    "            print('#' if (x, y) in screen else '.', end='')\n",
    "        print()"
   ]
  },
  {
   "cell_type": "code",
   "execution_count": 20,
   "id": "ea8d4362",
   "metadata": {
    "scrolled": true
   },
   "outputs": [],
   "source": [
    "screen = set()\n",
    "for instruction in instructions:\n",
    "    screen = process_instruction(instruction, screen)"
   ]
  },
  {
   "cell_type": "code",
   "execution_count": 23,
   "id": "5fd93af8",
   "metadata": {},
   "outputs": [
    {
     "name": "stdout",
     "output_type": "stream",
     "text": [
      "Part 1:\n"
     ]
    },
    {
     "data": {
      "text/plain": [
       "116"
      ]
     },
     "execution_count": 23,
     "metadata": {},
     "output_type": "execute_result"
    }
   ],
   "source": [
    "print(\"Part 1:\")\n",
    "len(screen)"
   ]
  },
  {
   "cell_type": "code",
   "execution_count": 24,
   "id": "1096f5b4",
   "metadata": {},
   "outputs": [
    {
     "name": "stdout",
     "output_type": "stream",
     "text": [
      "Part 2:\n",
      "#..#.###...##....##.####.#....###...##..####.####.\n",
      "#..#.#..#.#..#....#.#....#....#..#.#..#.#.......#.\n",
      "#..#.#..#.#..#....#.###..#....###..#....###....#..\n",
      "#..#.###..#..#....#.#....#....#..#.#....#.....#...\n",
      "#..#.#....#..#.#..#.#....#....#..#.#..#.#....#....\n",
      ".##..#.....##...##..#....####.###...##..####.####.\n"
     ]
    }
   ],
   "source": [
    "print(\"Part 2:\")\n",
    "print_screen()"
   ]
  },
  {
   "cell_type": "code",
   "execution_count": null,
   "id": "e17736ae",
   "metadata": {},
   "outputs": [],
   "source": []
  }
 ],
 "metadata": {
  "kernelspec": {
   "display_name": "Python 3",
   "language": "python",
   "name": "python3"
  },
  "language_info": {
   "codemirror_mode": {
    "name": "ipython",
    "version": 3
   },
   "file_extension": ".py",
   "mimetype": "text/x-python",
   "name": "python",
   "nbconvert_exporter": "python",
   "pygments_lexer": "ipython3",
   "version": "3.10.0"
  }
 },
 "nbformat": 4,
 "nbformat_minor": 5
}
