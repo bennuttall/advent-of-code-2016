{
 "cells": [
  {
   "cell_type": "code",
   "execution_count": 41,
   "metadata": {},
   "outputs": [],
   "source": [
    "import hashlib\n",
    "\n",
    "def find_password(id):\n",
    "    password = ''\n",
    "    n = 0\n",
    "    for i in range(8):\n",
    "        while True:\n",
    "            sid = id + str(n)\n",
    "            hash = hashlib.md5(sid.encode('utf-8')).hexdigest()\n",
    "            n += 1\n",
    "            if hash.startswith('00000'):\n",
    "                print(sid)\n",
    "                password += hash[5]\n",
    "                break\n",
    "    return password"
   ]
  },
  {
   "cell_type": "code",
   "execution_count": 42,
   "metadata": {},
   "outputs": [
    {
     "name": "stdout",
     "output_type": "stream",
     "text": [
      "Part 1:\n",
      "abbhdwsy1739529\n",
      "abbhdwsy1910966\n",
      "abbhdwsy1997199\n",
      "abbhdwsy2854555\n",
      "abbhdwsy2963716\n",
      "abbhdwsy3237361\n",
      "abbhdwsy4063427\n",
      "abbhdwsy7777889\n",
      "801b56a7\n"
     ]
    }
   ],
   "source": [
    "print(\"Part 1:\")\n",
    "print(find_password('abbhdwsy'))"
   ]
  },
  {
   "cell_type": "code",
   "execution_count": 51,
   "metadata": {},
   "outputs": [],
   "source": [
    "def find_password_2(id):\n",
    "    password = {}\n",
    "    n = 0\n",
    "    valid_positions = '01234567'\n",
    "    while len(password) < 8:\n",
    "        while True:\n",
    "            sid = id + str(n)\n",
    "            hash = hashlib.md5(sid.encode('utf-8')).hexdigest()\n",
    "            n += 1\n",
    "            if hash.startswith('00000'):\n",
    "                if hash[5] in valid_positions and int(hash[5]) not in password:\n",
    "                    password[int(hash[5])] = hash[6]\n",
    "                    print(''.join([password.get(n, '_') for n in range(8)]))\n",
    "                break\n",
    "    return ''.join([password[n] for n in range(8)])"
   ]
  },
  {
   "cell_type": "code",
   "execution_count": 52,
   "metadata": {},
   "outputs": [
    {
     "name": "stdout",
     "output_type": "stream",
     "text": [
      "Part 2:\n",
      "4_______\n",
      "42______\n",
      "42___1__\n",
      "42___19_\n",
      "42___197\n",
      "424__197\n",
      "424_0197\n",
      "424a0197\n",
      "424a0197\n"
     ]
    }
   ],
   "source": [
    "print(\"Part 2:\")\n",
    "print(find_password_2('abbhdwsy'))"
   ]
  },
  {
   "cell_type": "code",
   "execution_count": null,
   "metadata": {},
   "outputs": [],
   "source": []
  }
 ],
 "metadata": {
  "kernelspec": {
   "display_name": "Python 3",
   "language": "python",
   "name": "python3"
  },
  "language_info": {
   "codemirror_mode": {
    "name": "ipython",
    "version": 3
   },
   "file_extension": ".py",
   "mimetype": "text/x-python",
   "name": "python",
   "nbconvert_exporter": "python",
   "pygments_lexer": "ipython3",
   "version": "3.8.5"
  }
 },
 "nbformat": 4,
 "nbformat_minor": 4
}
