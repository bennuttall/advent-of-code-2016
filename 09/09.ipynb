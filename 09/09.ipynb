{
 "cells": [
  {
   "cell_type": "code",
   "execution_count": 1,
   "id": "19a4e1f3",
   "metadata": {},
   "outputs": [],
   "source": [
    "with open('input') as f:\n",
    "    compressed_text = f.read().replace('\\n', '')"
   ]
  },
  {
   "cell_type": "code",
   "execution_count": 2,
   "id": "935f0b91",
   "metadata": {},
   "outputs": [],
   "source": [
    "def decompress(txt):\n",
    "    bracket_open = False\n",
    "    bracket_text = \"\"\n",
    "    a = b = 0\n",
    "    output = \"\"\n",
    "    repeat_txt = \"\"\n",
    "    for char in txt:\n",
    "        if a > 0:\n",
    "            repeat_txt += char\n",
    "            a -= 1\n",
    "            if a == 0:\n",
    "                output += repeat_txt * b\n",
    "                repeat_txt = \"\"\n",
    "        elif bracket_open:\n",
    "            if char == ')':\n",
    "                bracket_open = False\n",
    "                a, b = [int(n) for n in bracket_text.split('x')]\n",
    "                bracket_text = \"\"\n",
    "                skip = a\n",
    "            else:\n",
    "                bracket_text += char\n",
    "        elif char == '(':\n",
    "            bracket_open = True\n",
    "        else:\n",
    "            output += char\n",
    "    return output"
   ]
  },
  {
   "cell_type": "code",
   "execution_count": 3,
   "id": "f521eec4",
   "metadata": {},
   "outputs": [],
   "source": [
    "assert (a := decompress(\"ADVENT\")) == \"ADVENT\", a\n",
    "assert (a := decompress(\"A(1x5)BC\")) == \"ABBBBBC\", a\n",
    "assert (a := decompress(\"(3x3)XYZ\")) == \"XYZXYZXYZ\", a\n",
    "assert (a := decompress(\"A(2x2)BCD(2x2)EFG\")) == \"ABCBCDEFEFG\", a\n",
    "assert (a := decompress(\"(6x1)(1x3)A\")) == \"(1x3)A\", a\n",
    "assert (a := decompress(\"X(8x2)(3x3)ABCY\")) == \"X(3x3)ABC(3x3)ABCY\", a"
   ]
  },
  {
   "cell_type": "code",
   "execution_count": 4,
   "id": "65f43576",
   "metadata": {},
   "outputs": [
    {
     "name": "stdout",
     "output_type": "stream",
     "text": [
      "Part 1:\n",
      "152851\n"
     ]
    }
   ],
   "source": [
    "print(\"Part 1:\")\n",
    "print(len(decompress(compressed_text)))"
   ]
  },
  {
   "cell_type": "code",
   "execution_count": 5,
   "id": "0d17e7c5",
   "metadata": {},
   "outputs": [],
   "source": [
    "class Chunk:\n",
    "    @classmethod\n",
    "    def from_text(self, text):\n",
    "        if text.startswith('('):\n",
    "            return Marker(text)\n",
    "        else:\n",
    "            return Text(text)"
   ]
  },
  {
   "cell_type": "code",
   "execution_count": 6,
   "id": "b6044bdb",
   "metadata": {},
   "outputs": [],
   "source": [
    "class Marker(Chunk):\n",
    "    def __init__(self, text):\n",
    "        self.text = text\n",
    "        \n",
    "    def __len__(self):\n",
    "        return len(self.text)\n",
    "    \n",
    "    def __repr__(self):\n",
    "        return self.text if self.is_active else 'NONE'\n",
    "    \n",
    "    @property\n",
    "    def a(self):\n",
    "        return int(self.text[1:-1].split('x')[0])\n",
    "    \n",
    "    @property\n",
    "    def b(self):\n",
    "        return int(self.text[1:-1].split('x')[1])\n",
    "    \n",
    "    @property\n",
    "    def is_active(self):\n",
    "        return self.text is not None\n",
    "    \n",
    "    def get_n_chars(self, n):\n",
    "        text = self.text\n",
    "        self.text = None\n",
    "        return text"
   ]
  },
  {
   "cell_type": "code",
   "execution_count": 7,
   "id": "a58714c1",
   "metadata": {},
   "outputs": [],
   "source": [
    "class Text:\n",
    "    def __init__(self, text):\n",
    "        self.text_len = len(text)\n",
    "        \n",
    "    def __len__(self):\n",
    "        return self.text_len\n",
    "    \n",
    "    def __repr__(self):\n",
    "        return str(len(self))\n",
    "    \n",
    "    @property\n",
    "    def is_active(self):\n",
    "        return len(self) > 0\n",
    "    \n",
    "    def get_n_chars(self, n):\n",
    "        if n > len(self):\n",
    "            text_len = len(self)\n",
    "            self.text_len = 0\n",
    "            return text_len * 'A'\n",
    "        else:\n",
    "            self.text_len -= n\n",
    "            return n * 'A'"
   ]
  },
  {
   "cell_type": "code",
   "execution_count": 8,
   "id": "3570ecd9",
   "metadata": {},
   "outputs": [],
   "source": [
    "def make_chunks(text):\n",
    "    chunks = []\n",
    "    chunk = ''\n",
    "    bracket_open = False\n",
    "    for char in text:\n",
    "        if bracket_open and char == ')':\n",
    "            chunk += char\n",
    "            chunks.append(Chunk.from_text(chunk))\n",
    "            chunk = ''\n",
    "            bracket_open = False\n",
    "        elif char == '(':\n",
    "            bracket_open = True\n",
    "            if chunk:\n",
    "                chunks.append(Chunk.from_text(chunk))\n",
    "            chunk = char\n",
    "        else:\n",
    "            chunk += char\n",
    "    if chunk:\n",
    "        chunks.append(Chunk.from_text(chunk))\n",
    "    return chunks"
   ]
  },
  {
   "cell_type": "code",
   "execution_count": 9,
   "id": "f9499e0e",
   "metadata": {},
   "outputs": [],
   "source": [
    "def get_next_n_chars(chunks, n):\n",
    "    chars = ''\n",
    "    for chunk in chunks:\n",
    "        chars += chunk.get_n_chars(n - len(chars))\n",
    "        if len(chars) == n:\n",
    "            return chars"
   ]
  },
  {
   "cell_type": "code",
   "execution_count": 10,
   "id": "f25a61bb",
   "metadata": {},
   "outputs": [],
   "source": [
    "def partial_decompress(chunks):\n",
    "    new_chunks = []\n",
    "    for i in range(len(chunks)):\n",
    "        chunk = chunks[i]\n",
    "        if chunk.is_active:\n",
    "            if type(chunk) == Text:\n",
    "                new_chunks.append(chunk)\n",
    "            else:\n",
    "                repeat_chars = get_next_n_chars(chunks[i+1:], n=chunk.a)\n",
    "                for _ in range(chunk.b):\n",
    "                    new_chunks.extend(make_chunks(repeat_chars))\n",
    "    return new_chunks"
   ]
  },
  {
   "cell_type": "code",
   "execution_count": 11,
   "id": "2d3d23c6",
   "metadata": {},
   "outputs": [],
   "source": [
    "def get_decompress_length(chunks):\n",
    "    while not all(type(chunk) == Text for chunk in chunks):\n",
    "        chunks = partial_decompress(chunks)\n",
    "    return sum(len(chunk) for chunk in chunks)"
   ]
  },
  {
   "cell_type": "code",
   "execution_count": 12,
   "id": "1a353c7d",
   "metadata": {},
   "outputs": [],
   "source": [
    "assert (a := get_decompress_length(make_chunks(\"(3x3)XYZ\"))) == 9, a\n",
    "assert (a := get_decompress_length(make_chunks(\"X(8x2)(3x3)ABCY\"))) == 20, a\n",
    "assert (a := get_decompress_length(make_chunks(\"(27x12)(20x12)(13x14)(7x10)(1x12)A\"))) == 241920, a\n",
    "assert (a := get_decompress_length(make_chunks(\"(25x3)(3x3)ABC(2x3)XY(5x2)PQRSTX(18x9)(3x2)TWO(5x7)SEVEN\"))) == 445, a"
   ]
  },
  {
   "cell_type": "code",
   "execution_count": 13,
   "id": "f79588c4",
   "metadata": {},
   "outputs": [
    {
     "ename": "KeyboardInterrupt",
     "evalue": "",
     "output_type": "error",
     "traceback": [
      "\u001b[0;31m---------------------------------------------------------------------------\u001b[0m",
      "\u001b[0;31mKeyboardInterrupt\u001b[0m                         Traceback (most recent call last)",
      "\u001b[0;32m/tmp/ipykernel_38756/3453772785.py\u001b[0m in \u001b[0;36m<module>\u001b[0;34m\u001b[0m\n\u001b[0;32m----> 1\u001b[0;31m \u001b[0mget_decompress_length\u001b[0m\u001b[0;34m(\u001b[0m\u001b[0mmake_chunks\u001b[0m\u001b[0;34m(\u001b[0m\u001b[0mcompressed_text\u001b[0m\u001b[0;34m)\u001b[0m\u001b[0;34m)\u001b[0m\u001b[0;34m\u001b[0m\u001b[0;34m\u001b[0m\u001b[0m\n\u001b[0m",
      "\u001b[0;32m/tmp/ipykernel_38756/1434198858.py\u001b[0m in \u001b[0;36mget_decompress_length\u001b[0;34m(chunks)\u001b[0m\n\u001b[1;32m      1\u001b[0m \u001b[0;32mdef\u001b[0m \u001b[0mget_decompress_length\u001b[0m\u001b[0;34m(\u001b[0m\u001b[0mchunks\u001b[0m\u001b[0;34m)\u001b[0m\u001b[0;34m:\u001b[0m\u001b[0;34m\u001b[0m\u001b[0;34m\u001b[0m\u001b[0m\n\u001b[1;32m      2\u001b[0m     \u001b[0;32mwhile\u001b[0m \u001b[0;32mnot\u001b[0m \u001b[0mall\u001b[0m\u001b[0;34m(\u001b[0m\u001b[0mtype\u001b[0m\u001b[0;34m(\u001b[0m\u001b[0mchunk\u001b[0m\u001b[0;34m)\u001b[0m \u001b[0;34m==\u001b[0m \u001b[0mText\u001b[0m \u001b[0;32mfor\u001b[0m \u001b[0mchunk\u001b[0m \u001b[0;32min\u001b[0m \u001b[0mchunks\u001b[0m\u001b[0;34m)\u001b[0m\u001b[0;34m:\u001b[0m\u001b[0;34m\u001b[0m\u001b[0;34m\u001b[0m\u001b[0m\n\u001b[0;32m----> 3\u001b[0;31m         \u001b[0mchunks\u001b[0m \u001b[0;34m=\u001b[0m \u001b[0mpartial_decompress\u001b[0m\u001b[0;34m(\u001b[0m\u001b[0mchunks\u001b[0m\u001b[0;34m)\u001b[0m\u001b[0;34m\u001b[0m\u001b[0;34m\u001b[0m\u001b[0m\n\u001b[0m\u001b[1;32m      4\u001b[0m     \u001b[0;32mreturn\u001b[0m \u001b[0msum\u001b[0m\u001b[0;34m(\u001b[0m\u001b[0mlen\u001b[0m\u001b[0;34m(\u001b[0m\u001b[0mchunk\u001b[0m\u001b[0;34m)\u001b[0m \u001b[0;32mfor\u001b[0m \u001b[0mchunk\u001b[0m \u001b[0;32min\u001b[0m \u001b[0mchunks\u001b[0m\u001b[0;34m)\u001b[0m\u001b[0;34m\u001b[0m\u001b[0;34m\u001b[0m\u001b[0m\n",
      "\u001b[0;32m/tmp/ipykernel_38756/1934313653.py\u001b[0m in \u001b[0;36mpartial_decompress\u001b[0;34m(chunks)\u001b[0m\n\u001b[1;32m      7\u001b[0m                 \u001b[0mnew_chunks\u001b[0m\u001b[0;34m.\u001b[0m\u001b[0mappend\u001b[0m\u001b[0;34m(\u001b[0m\u001b[0mchunk\u001b[0m\u001b[0;34m)\u001b[0m\u001b[0;34m\u001b[0m\u001b[0;34m\u001b[0m\u001b[0m\n\u001b[1;32m      8\u001b[0m             \u001b[0;32melse\u001b[0m\u001b[0;34m:\u001b[0m\u001b[0;34m\u001b[0m\u001b[0;34m\u001b[0m\u001b[0m\n\u001b[0;32m----> 9\u001b[0;31m                 \u001b[0mrepeat_chars\u001b[0m \u001b[0;34m=\u001b[0m \u001b[0mget_next_n_chars\u001b[0m\u001b[0;34m(\u001b[0m\u001b[0mchunks\u001b[0m\u001b[0;34m[\u001b[0m\u001b[0mi\u001b[0m\u001b[0;34m+\u001b[0m\u001b[0;36m1\u001b[0m\u001b[0;34m:\u001b[0m\u001b[0;34m]\u001b[0m\u001b[0;34m,\u001b[0m \u001b[0mn\u001b[0m\u001b[0;34m=\u001b[0m\u001b[0mchunk\u001b[0m\u001b[0;34m.\u001b[0m\u001b[0ma\u001b[0m\u001b[0;34m)\u001b[0m\u001b[0;34m\u001b[0m\u001b[0;34m\u001b[0m\u001b[0m\n\u001b[0m\u001b[1;32m     10\u001b[0m                 \u001b[0;32mfor\u001b[0m \u001b[0m_\u001b[0m \u001b[0;32min\u001b[0m \u001b[0mrange\u001b[0m\u001b[0;34m(\u001b[0m\u001b[0mchunk\u001b[0m\u001b[0;34m.\u001b[0m\u001b[0mb\u001b[0m\u001b[0;34m)\u001b[0m\u001b[0;34m:\u001b[0m\u001b[0;34m\u001b[0m\u001b[0;34m\u001b[0m\u001b[0m\n\u001b[1;32m     11\u001b[0m                     \u001b[0mnew_chunks\u001b[0m\u001b[0;34m.\u001b[0m\u001b[0mextend\u001b[0m\u001b[0;34m(\u001b[0m\u001b[0mmake_chunks\u001b[0m\u001b[0;34m(\u001b[0m\u001b[0mrepeat_chars\u001b[0m\u001b[0;34m)\u001b[0m\u001b[0;34m)\u001b[0m\u001b[0;34m\u001b[0m\u001b[0;34m\u001b[0m\u001b[0m\n",
      "\u001b[0;32m/tmp/ipykernel_38756/3775084783.py\u001b[0m in \u001b[0;36ma\u001b[0;34m(self)\u001b[0m\n\u001b[1;32m      9\u001b[0m         \u001b[0;32mreturn\u001b[0m \u001b[0mself\u001b[0m\u001b[0;34m.\u001b[0m\u001b[0mtext\u001b[0m \u001b[0;32mif\u001b[0m \u001b[0mself\u001b[0m\u001b[0;34m.\u001b[0m\u001b[0mis_active\u001b[0m \u001b[0;32melse\u001b[0m \u001b[0;34m'NONE'\u001b[0m\u001b[0;34m\u001b[0m\u001b[0;34m\u001b[0m\u001b[0m\n\u001b[1;32m     10\u001b[0m \u001b[0;34m\u001b[0m\u001b[0m\n\u001b[0;32m---> 11\u001b[0;31m     \u001b[0;34m@\u001b[0m\u001b[0mproperty\u001b[0m\u001b[0;34m\u001b[0m\u001b[0;34m\u001b[0m\u001b[0m\n\u001b[0m\u001b[1;32m     12\u001b[0m     \u001b[0;32mdef\u001b[0m \u001b[0ma\u001b[0m\u001b[0;34m(\u001b[0m\u001b[0mself\u001b[0m\u001b[0;34m)\u001b[0m\u001b[0;34m:\u001b[0m\u001b[0;34m\u001b[0m\u001b[0;34m\u001b[0m\u001b[0m\n\u001b[1;32m     13\u001b[0m         \u001b[0;32mreturn\u001b[0m \u001b[0mint\u001b[0m\u001b[0;34m(\u001b[0m\u001b[0mself\u001b[0m\u001b[0;34m.\u001b[0m\u001b[0mtext\u001b[0m\u001b[0;34m[\u001b[0m\u001b[0;36m1\u001b[0m\u001b[0;34m:\u001b[0m\u001b[0;34m-\u001b[0m\u001b[0;36m1\u001b[0m\u001b[0;34m]\u001b[0m\u001b[0;34m.\u001b[0m\u001b[0msplit\u001b[0m\u001b[0;34m(\u001b[0m\u001b[0;34m'x'\u001b[0m\u001b[0;34m)\u001b[0m\u001b[0;34m[\u001b[0m\u001b[0;36m0\u001b[0m\u001b[0;34m]\u001b[0m\u001b[0;34m)\u001b[0m\u001b[0;34m\u001b[0m\u001b[0;34m\u001b[0m\u001b[0m\n",
      "\u001b[0;31mKeyboardInterrupt\u001b[0m: "
     ]
    }
   ],
   "source": [
    "get_decompress_length(make_chunks(compressed_text))"
   ]
  },
  {
   "cell_type": "code",
   "execution_count": null,
   "id": "1750204e",
   "metadata": {},
   "outputs": [],
   "source": []
  }
 ],
 "metadata": {
  "kernelspec": {
   "display_name": "Python 3",
   "language": "python",
   "name": "python3"
  },
  "language_info": {
   "codemirror_mode": {
    "name": "ipython",
    "version": 3
   },
   "file_extension": ".py",
   "mimetype": "text/x-python",
   "name": "python",
   "nbconvert_exporter": "python",
   "pygments_lexer": "ipython3",
   "version": "3.10.0"
  }
 },
 "nbformat": 4,
 "nbformat_minor": 5
}
