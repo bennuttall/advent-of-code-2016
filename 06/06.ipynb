{
 "cells": [
  {
   "cell_type": "code",
   "execution_count": 1,
   "id": "45b36795",
   "metadata": {},
   "outputs": [],
   "source": [
    "with open('input') as f:\n",
    "    messages = [line.strip() for line in f]"
   ]
  },
  {
   "cell_type": "code",
   "execution_count": 2,
   "id": "09aedf7d",
   "metadata": {},
   "outputs": [],
   "source": [
    "from collections import Counter\n",
    "\n",
    "part_1_message = ''\n",
    "part_2_message = ''\n",
    "for i in range(len(messages[0])):\n",
    "    c = Counter([m[i] for m in messages])\n",
    "    part_1_message += c.most_common()[0][0]\n",
    "    part_2_message += c.most_common()[-1][0]"
   ]
  },
  {
   "cell_type": "code",
   "execution_count": 3,
   "id": "d51cadb8",
   "metadata": {},
   "outputs": [
    {
     "name": "stdout",
     "output_type": "stream",
     "text": [
      "Part 1:\n",
      "umcvzsmw\n"
     ]
    }
   ],
   "source": [
    "print(\"Part 1:\")\n",
    "print(part_1_message)"
   ]
  },
  {
   "cell_type": "code",
   "execution_count": 4,
   "id": "39f5a137",
   "metadata": {},
   "outputs": [
    {
     "name": "stdout",
     "output_type": "stream",
     "text": [
      "Part 2:\n",
      "rwqoacfz\n"
     ]
    }
   ],
   "source": [
    "print(\"Part 2:\")\n",
    "print(part_2_message)"
   ]
  }
 ],
 "metadata": {
  "kernelspec": {
   "display_name": "Python 3",
   "language": "python",
   "name": "python3"
  },
  "language_info": {
   "codemirror_mode": {
    "name": "ipython",
    "version": 3
   },
   "file_extension": ".py",
   "mimetype": "text/x-python",
   "name": "python",
   "nbconvert_exporter": "python",
   "pygments_lexer": "ipython3",
   "version": "3.10.0"
  }
 },
 "nbformat": 4,
 "nbformat_minor": 5
}
