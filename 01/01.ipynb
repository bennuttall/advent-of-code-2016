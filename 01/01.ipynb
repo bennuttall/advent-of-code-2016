{
 "cells": [
  {
   "cell_type": "code",
   "execution_count": 1,
   "metadata": {},
   "outputs": [
    {
     "data": {
      "text/plain": [
       "['R3', 'L2', 'L2', 'R4', 'L1', 'R2', 'R3', 'R4', 'L2', 'R4']"
      ]
     },
     "execution_count": 1,
     "metadata": {},
     "output_type": "execute_result"
    }
   ],
   "source": [
    "with open('input') as f:\n",
    "    instructions = [d for d in f.read().strip().split(', ')]\n",
    "instructions[:10]"
   ]
  },
  {
   "cell_type": "code",
   "execution_count": 22,
   "metadata": {},
   "outputs": [],
   "source": [
    "directions = {\n",
    "    'NL': 'W',\n",
    "    'NR': 'E',\n",
    "    'EL': 'N',\n",
    "    'ER': 'S',\n",
    "    'SL': 'E',\n",
    "    'SR': 'W',\n",
    "    'WL': 'S',\n",
    "    'WR': 'N',\n",
    "}\n",
    "\n",
    "pos = (0, 0)\n",
    "visited = {pos}\n",
    "visited_twice = None\n",
    "facing = 'N'\n",
    "for instruction in instructions:\n",
    "    d = instruction[0]\n",
    "    n = int(instruction[1:])\n",
    "    facing = directions[f'{facing}{d}']\n",
    "    delta = {\n",
    "        'N': (0, 1),\n",
    "        'E': (1, 0),\n",
    "        'S': (0, -1),\n",
    "        'W': (-1, 0),\n",
    "    }[facing]\n",
    "    for i in range(n):\n",
    "        pos = (pos[0] + delta[0], pos[1] + delta[1])\n",
    "        if visited_twice is None and pos in visited:\n",
    "            visited_twice = pos\n",
    "        visited.add(pos)"
   ]
  },
  {
   "cell_type": "code",
   "execution_count": 23,
   "metadata": {},
   "outputs": [
    {
     "name": "stdout",
     "output_type": "stream",
     "text": [
      "Part 1:\n",
      "262\n"
     ]
    }
   ],
   "source": [
    "import math\n",
    "print(\"Part 1:\")\n",
    "print(sum(abs(p) for p in pos))"
   ]
  },
  {
   "cell_type": "code",
   "execution_count": 24,
   "metadata": {},
   "outputs": [
    {
     "name": "stdout",
     "output_type": "stream",
     "text": [
      "Part 2:\n",
      "131\n"
     ]
    }
   ],
   "source": [
    "print(\"Part 2:\")\n",
    "print(sum(abs(p) for p in visited_twice))"
   ]
  },
  {
   "cell_type": "code",
   "execution_count": null,
   "metadata": {},
   "outputs": [],
   "source": []
  }
 ],
 "metadata": {
  "kernelspec": {
   "display_name": "Python 3",
   "language": "python",
   "name": "python3"
  },
  "language_info": {
   "codemirror_mode": {
    "name": "ipython",
    "version": 3
   },
   "file_extension": ".py",
   "mimetype": "text/x-python",
   "name": "python",
   "nbconvert_exporter": "python",
   "pygments_lexer": "ipython3",
   "version": "3.8.5"
  }
 },
 "nbformat": 4,
 "nbformat_minor": 4
}
