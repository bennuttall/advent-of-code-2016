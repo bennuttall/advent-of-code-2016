{
 "cells": [
  {
   "cell_type": "code",
   "execution_count": 1,
   "metadata": {},
   "outputs": [],
   "source": [
    "def process_room(line):\n",
    "    room, checksum = line.replace(']', '').split('[')\n",
    "    room_parts = room.split('-')\n",
    "    id = int(room_parts[-1])\n",
    "    room = ''.join(room_parts[:-1])\n",
    "    return id, room, checksum"
   ]
  },
  {
   "cell_type": "code",
   "execution_count": 2,
   "metadata": {},
   "outputs": [],
   "source": [
    "with open('input') as f:\n",
    "    rooms = [process_room(line.strip()) for line in f]"
   ]
  },
  {
   "cell_type": "code",
   "execution_count": 3,
   "metadata": {},
   "outputs": [],
   "source": [
    "def make_checksum(chars):\n",
    "    checksum = []\n",
    "    while len(chars) > 0:\n",
    "        checksum.extend(\n",
    "            sorted(\n",
    "                char\n",
    "                for char, n in chars.items()\n",
    "                if n == max(chars.values())\n",
    "            )\n",
    "        )\n",
    "        chars = {\n",
    "            char: n\n",
    "            for char, n in chars.items()\n",
    "            if n != max(chars.values())\n",
    "        }\n",
    "    return ''.join(checksum)[:5]"
   ]
  },
  {
   "cell_type": "code",
   "execution_count": 4,
   "metadata": {},
   "outputs": [],
   "source": [
    "def validate_room(room, checksum):\n",
    "    chars = {\n",
    "        char: room.count(char)\n",
    "        for char in set(room)\n",
    "    }\n",
    "    return checksum == make_checksum(chars)"
   ]
  },
  {
   "cell_type": "code",
   "execution_count": 5,
   "metadata": {},
   "outputs": [
    {
     "name": "stdout",
     "output_type": "stream",
     "text": [
      "Part 1:\n",
      "409147\n"
     ]
    }
   ],
   "source": [
    "print(\"Part 1:\")\n",
    "print(sum(id for id, room, checksum in rooms if validate_room(room, checksum)))"
   ]
  },
  {
   "cell_type": "code",
   "execution_count": 6,
   "metadata": {},
   "outputs": [],
   "source": [
    "import string\n",
    "\n",
    "alphabet = string.ascii_lowercase\n",
    "\n",
    "def decipher(room, id):\n",
    "    n = id % len(alphabet)\n",
    "    new_alphabet = alphabet[n:] + alphabet[:n]\n",
    "    trans = str.maketrans(alphabet, new_alphabet)\n",
    "    return room.translate(trans)"
   ]
  },
  {
   "cell_type": "code",
   "execution_count": 7,
   "metadata": {},
   "outputs": [],
   "source": [
    "for id, room, checksum in rooms:\n",
    "    if validate_room(room, checksum):\n",
    "        deciphered_room = decipher(room, id)\n",
    "        if 'north' in deciphered_room:\n",
    "            north_pole = id"
   ]
  },
  {
   "cell_type": "code",
   "execution_count": 8,
   "metadata": {},
   "outputs": [
    {
     "name": "stdout",
     "output_type": "stream",
     "text": [
      "Part 2:\n",
      "991\n"
     ]
    }
   ],
   "source": [
    "print(\"Part 2:\")\n",
    "print(north_pole)"
   ]
  }
 ],
 "metadata": {
  "kernelspec": {
   "display_name": "Python 3",
   "language": "python",
   "name": "python3"
  },
  "language_info": {
   "codemirror_mode": {
    "name": "ipython",
    "version": 3
   },
   "file_extension": ".py",
   "mimetype": "text/x-python",
   "name": "python",
   "nbconvert_exporter": "python",
   "pygments_lexer": "ipython3",
   "version": "3.8.5"
  }
 },
 "nbformat": 4,
 "nbformat_minor": 4
}
