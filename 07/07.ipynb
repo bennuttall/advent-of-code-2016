{
 "cells": [
  {
   "cell_type": "code",
   "execution_count": 1,
   "id": "8f76e2f2",
   "metadata": {},
   "outputs": [],
   "source": [
    "with open('input') as f:\n",
    "    addresses = [line.strip() for line in f]"
   ]
  },
  {
   "cell_type": "code",
   "execution_count": 2,
   "id": "262cced7",
   "metadata": {},
   "outputs": [],
   "source": [
    "from collections import deque\n",
    "from itertools import islice\n",
    "\n",
    "def sliding_window(iterable, n):\n",
    "    # sliding_window('ABCDEFG', 4) -> ABCD BCDE CDEF DEFG\n",
    "    it = iter(iterable)\n",
    "    window = deque(islice(it, n), maxlen=n)\n",
    "    if len(window) == n:\n",
    "        yield ''.join(window)\n",
    "    for x in it:\n",
    "        window.append(x)\n",
    "        yield ''.join(window)"
   ]
  },
  {
   "cell_type": "code",
   "execution_count": 3,
   "id": "34a0a0a5",
   "metadata": {},
   "outputs": [],
   "source": [
    "def has_abba(text):\n",
    "    for view in sliding_window(text, 4):\n",
    "        if view[0] != view[1] and view[:2] == view[2:][::-1]:\n",
    "            return True\n",
    "    return False"
   ]
  },
  {
   "cell_type": "code",
   "execution_count": 4,
   "id": "bbc9e462",
   "metadata": {},
   "outputs": [],
   "source": [
    "def separate_bracketed_parts(text):\n",
    "    bracketed_text = set()\n",
    "    unbracketed_text = set()\n",
    "    current_text = ''\n",
    "    for pos, char in enumerate(text):\n",
    "        if char == '[':\n",
    "            if current_text:\n",
    "                unbracketed_text.add(current_text)\n",
    "                current_text = ''\n",
    "        elif char == ']':\n",
    "            if current_text:\n",
    "                bracketed_text.add(current_text)\n",
    "                current_text = ''\n",
    "        else:\n",
    "            current_text += char\n",
    "    if current_text:\n",
    "        unbracketed_text.add(current_text)\n",
    "    return bracketed_text, unbracketed_text"
   ]
  },
  {
   "cell_type": "code",
   "execution_count": 5,
   "id": "32a06922",
   "metadata": {},
   "outputs": [],
   "source": [
    "def supports_tls(address):\n",
    "    bracketed_text, unbracketed_text = separate_bracketed_parts(address)\n",
    "    if any(has_abba(text) for text in bracketed_text):\n",
    "        return False\n",
    "    return any(has_abba(text) for text in unbracketed_text)"
   ]
  },
  {
   "cell_type": "code",
   "execution_count": 6,
   "id": "bf20aade",
   "metadata": {},
   "outputs": [
    {
     "name": "stdout",
     "output_type": "stream",
     "text": [
      "Part 1:\n",
      "105\n"
     ]
    }
   ],
   "source": [
    "print(\"Part 1:\")\n",
    "print(sum(supports_tls(address) for address in addresses))"
   ]
  },
  {
   "cell_type": "code",
   "execution_count": 7,
   "id": "0524c3c2",
   "metadata": {},
   "outputs": [],
   "source": [
    "def find_abas(texts):\n",
    "    abas = []\n",
    "    for text in texts:\n",
    "        for view in sliding_window(text, 3):\n",
    "            if view[0] == view[2] and view[0] != view[1]:\n",
    "                abas.append(view)\n",
    "    return abas"
   ]
  },
  {
   "cell_type": "code",
   "execution_count": 8,
   "id": "d4c836b3",
   "metadata": {},
   "outputs": [],
   "source": [
    "def has_bab(text, aba):\n",
    "    a, b, a = aba\n",
    "    for view in sliding_window(text, 3):\n",
    "        if view == ''.join([b, a, b]):\n",
    "            return True\n",
    "    return False"
   ]
  },
  {
   "cell_type": "code",
   "execution_count": 9,
   "id": "0ca6c0dd",
   "metadata": {},
   "outputs": [],
   "source": [
    "def supports_ssl(address):\n",
    "    bracketed_text, unbracketed_text = separate_bracketed_parts(address)\n",
    "    abas = find_abas(unbracketed_text)\n",
    "    if abas:\n",
    "        for aba in abas:\n",
    "            for text in bracketed_text:\n",
    "                if has_bab(text, aba):\n",
    "                    return True\n",
    "    return False"
   ]
  },
  {
   "cell_type": "code",
   "execution_count": 10,
   "id": "8e0e0935",
   "metadata": {},
   "outputs": [
    {
     "name": "stdout",
     "output_type": "stream",
     "text": [
      "Part 2:\n",
      "258\n"
     ]
    }
   ],
   "source": [
    "print(\"Part 2:\")\n",
    "print(sum(supports_ssl(address) for address in addresses))"
   ]
  }
 ],
 "metadata": {
  "kernelspec": {
   "display_name": "Python 3",
   "language": "python",
   "name": "python3"
  },
  "language_info": {
   "codemirror_mode": {
    "name": "ipython",
    "version": 3
   },
   "file_extension": ".py",
   "mimetype": "text/x-python",
   "name": "python",
   "nbconvert_exporter": "python",
   "pygments_lexer": "ipython3",
   "version": "3.10.0"
  }
 },
 "nbformat": 4,
 "nbformat_minor": 5
}
