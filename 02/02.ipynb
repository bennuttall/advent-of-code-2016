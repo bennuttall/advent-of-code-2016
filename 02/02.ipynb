{
 "cells": [
  {
   "cell_type": "code",
   "execution_count": 1,
   "metadata": {},
   "outputs": [],
   "source": [
    "with open('input') as f:\n",
    "    data = [line.strip() for line in f]"
   ]
  },
  {
   "cell_type": "code",
   "execution_count": 6,
   "metadata": {},
   "outputs": [],
   "source": [
    "def get_pos(instructions, start, valid_positions):\n",
    "    pos = start\n",
    "    deltas = {\n",
    "        'U': (0, -1),\n",
    "        'R': (1, 0),\n",
    "        'D': (0, 1),\n",
    "        'L': (-1, 0),\n",
    "    }\n",
    "    \n",
    "    for i in instructions:\n",
    "        delta = deltas[i]\n",
    "        new_pos = (pos[0] + delta[0], pos[1] + delta[1])\n",
    "        if new_pos in valid_positions:\n",
    "            pos = new_pos\n",
    "    return pos"
   ]
  },
  {
   "cell_type": "code",
   "execution_count": 7,
   "metadata": {},
   "outputs": [],
   "source": [
    "def get_numbers(data, start, valid_positions, pos_to_num):\n",
    "    nums = ''\n",
    "    for instructions in data:\n",
    "        pos = get_pos(instructions, start, valid_positions)\n",
    "        nums += pos_to_num(pos)\n",
    "        start = pos\n",
    "    return nums"
   ]
  },
  {
   "cell_type": "code",
   "execution_count": 8,
   "metadata": {},
   "outputs": [
    {
     "name": "stdout",
     "output_type": "stream",
     "text": [
      "Part 1:\n",
      "19636\n"
     ]
    }
   ],
   "source": [
    "import itertools\n",
    "\n",
    "grid = set(itertools.product(range(3), range(3)))\n",
    "pos_to_num_1 = lambda pos: str(3 * pos[1] + pos[0] + 1)\n",
    "print(\"Part 1:\")\n",
    "print(get_numbers(data, start=(1, 1), valid_positions=grid, pos_to_num=pos_to_num_1))"
   ]
  },
  {
   "cell_type": "code",
   "execution_count": 9,
   "metadata": {},
   "outputs": [
    {
     "name": "stdout",
     "output_type": "stream",
     "text": [
      "Part 2:\n",
      "3CC43\n"
     ]
    }
   ],
   "source": [
    "codes = {\n",
    "    (2, 0): '1',\n",
    "    (1, 1): '2',\n",
    "    (2, 1): '3',\n",
    "    (3, 1): '4',\n",
    "    (0, 2): '5',\n",
    "    (1, 2): '6',\n",
    "    (2, 2): '7',\n",
    "    (3, 2): '8',\n",
    "    (4, 2): '9',\n",
    "    (1, 3): 'A',\n",
    "    (2, 3): 'B',\n",
    "    (3, 3): 'C',\n",
    "    (2, 4): 'D',\n",
    "}\n",
    "pos_to_num_2 = lambda pos: codes[pos]\n",
    "\n",
    "print(\"Part 2:\")\n",
    "print(get_numbers(data, start=(0, 2), valid_positions=codes.keys(), pos_to_num=pos_to_num_2))"
   ]
  },
  {
   "cell_type": "code",
   "execution_count": null,
   "metadata": {},
   "outputs": [],
   "source": []
  }
 ],
 "metadata": {
  "kernelspec": {
   "display_name": "Python 3",
   "language": "python",
   "name": "python3"
  },
  "language_info": {
   "codemirror_mode": {
    "name": "ipython",
    "version": 3
   },
   "file_extension": ".py",
   "mimetype": "text/x-python",
   "name": "python",
   "nbconvert_exporter": "python",
   "pygments_lexer": "ipython3",
   "version": "3.8.5"
  }
 },
 "nbformat": 4,
 "nbformat_minor": 4
}
