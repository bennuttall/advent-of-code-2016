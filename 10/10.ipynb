{
 "cells": [
  {
   "cell_type": "code",
   "execution_count": 1,
   "id": "becc44b9",
   "metadata": {},
   "outputs": [],
   "source": [
    "class Bot:\n",
    "    def __init__(self, bot_id):\n",
    "        self.bot_id = bot_id\n",
    "        self.chips = set()\n",
    "        self.part_1 = False\n",
    "        \n",
    "    def __repr__(self):\n",
    "        return f\"<Bot {self.bot_id}>\"\n",
    "        \n",
    "    def send_chips(self):\n",
    "        if len(self.chips) == 2:\n",
    "            low, high = sorted(self.chips)\n",
    "            self.chips = set()\n",
    "            self.low_to.receive_chip(low)\n",
    "            self.high_to.receive_chip(high)\n",
    "            \n",
    "    def receive_chip(self, chip):\n",
    "        self.chips.add(chip)\n",
    "        if self.chips == {17, 61}:\n",
    "            self.part_1 = True\n",
    "        self.send_chips()"
   ]
  },
  {
   "cell_type": "code",
   "execution_count": 2,
   "id": "ed4d42d5",
   "metadata": {},
   "outputs": [],
   "source": [
    "class Output:\n",
    "    def __init__(self, output_id):\n",
    "        self.output_id = output_id\n",
    "        self.value = None\n",
    "        \n",
    "    def __repr__(self):\n",
    "        return f\"<Output {self.output_id} value={self.value}>\"\n",
    "    \n",
    "    def receive_chip(self, value):\n",
    "        self.value = value"
   ]
  },
  {
   "cell_type": "code",
   "execution_count": 3,
   "id": "7a844b8e",
   "metadata": {},
   "outputs": [],
   "source": [
    "from collections import defaultdict\n",
    "\n",
    "instructions = []\n",
    "bot_chips = defaultdict(set)\n",
    "\n",
    "with open('input') as f:\n",
    "    for line in f:\n",
    "        parts = line.strip().split()\n",
    "        if line.startswith('bot'):\n",
    "            bot_id = parts[1]\n",
    "            low_to_type = parts[5]\n",
    "            low_to = parts[6]\n",
    "            high_to_type = parts[10]\n",
    "            high_to = parts[11]\n",
    "            instructions.append([int(bot_id), low_to_type, int(low_to), high_to_type, int(high_to)])\n",
    "        else:\n",
    "            chip = parts[1]\n",
    "            bot_id = parts[-1]\n",
    "            bot_chips[int(bot_id)].add(int(chip))"
   ]
  },
  {
   "cell_type": "code",
   "execution_count": 4,
   "id": "25af9011",
   "metadata": {},
   "outputs": [],
   "source": [
    "bots = {}\n",
    "outputs = {}\n",
    "\n",
    "for bot_id, low_to_type, low_to, high_to_type, high_to in instructions:\n",
    "    bots[bot_id] = Bot(bot_id)\n",
    "    if low_to_type == 'output':\n",
    "        outputs[low_to] = Output(low_to)\n",
    "    if high_to_type == 'output':\n",
    "        outputs[high_to] = Output(high_to)"
   ]
  },
  {
   "cell_type": "code",
   "execution_count": 5,
   "id": "8c8f16e9",
   "metadata": {},
   "outputs": [],
   "source": [
    "for bot_id, low_to_type, low_to, high_to_type, high_to in instructions:\n",
    "    if low_to_type == 'output':\n",
    "        bots[bot_id].low_to = outputs[low_to]\n",
    "    else:\n",
    "        bots[bot_id].low_to = bots[low_to]\n",
    "    if high_to_type == 'output':\n",
    "        bots[bot_id].high_to = outputs[high_to]\n",
    "    else:\n",
    "        bots[bot_id].high_to = bots[high_to]"
   ]
  },
  {
   "cell_type": "code",
   "execution_count": 6,
   "id": "f9437438",
   "metadata": {},
   "outputs": [],
   "source": [
    "for bot_id, chips in bot_chips.items():\n",
    "    bots[bot_id].chips = chips"
   ]
  },
  {
   "cell_type": "code",
   "execution_count": 7,
   "id": "e4f0f922",
   "metadata": {},
   "outputs": [],
   "source": [
    "for bot in bots.values():\n",
    "    bot.send_chips()"
   ]
  },
  {
   "cell_type": "code",
   "execution_count": 8,
   "id": "af67cc2d",
   "metadata": {},
   "outputs": [],
   "source": [
    "for bot in bots.values():\n",
    "    if bot.part_1:\n",
    "        part_1_bot = bot.bot_id"
   ]
  },
  {
   "cell_type": "code",
   "execution_count": 9,
   "id": "07cea12c",
   "metadata": {},
   "outputs": [
    {
     "name": "stdout",
     "output_type": "stream",
     "text": [
      "Part 1:\n",
      "98\n"
     ]
    }
   ],
   "source": [
    "print(\"Part 1:\")\n",
    "print(part_1_bot)"
   ]
  },
  {
   "cell_type": "code",
   "execution_count": 10,
   "id": "96bc9c6a",
   "metadata": {},
   "outputs": [
    {
     "name": "stdout",
     "output_type": "stream",
     "text": [
      "Part 2:\n",
      "4042\n"
     ]
    }
   ],
   "source": [
    "print(\"Part 2:\")\n",
    "print(outputs[0].value * outputs[1].value * outputs[2].value)"
   ]
  }
 ],
 "metadata": {
  "kernelspec": {
   "display_name": "Python 3",
   "language": "python",
   "name": "python3"
  },
  "language_info": {
   "codemirror_mode": {
    "name": "ipython",
    "version": 3
   },
   "file_extension": ".py",
   "mimetype": "text/x-python",
   "name": "python",
   "nbconvert_exporter": "python",
   "pygments_lexer": "ipython3",
   "version": "3.10.0"
  }
 },
 "nbformat": 4,
 "nbformat_minor": 5
}
